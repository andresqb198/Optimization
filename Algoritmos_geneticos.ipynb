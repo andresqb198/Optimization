{
 "cells": [
  {
   "cell_type": "markdown",
   "metadata": {},
   "source": [
    "## Algoritmo genético simple\n",
    "Andrés Quintero Bedoya"
   ]
  },
  {
   "cell_type": "code",
   "execution_count": 1,
   "metadata": {},
   "outputs": [],
   "source": [
    "#Se importan librerías necesarias para trabajar el algoritmo\n",
    "import random\n",
    "import numpy as np\n",
    "\n",
    "def crear_referencia(tamano_cromosoma):\n",
    "    \n",
    "    unos = int(tamano_cromosoma / 2) #Cantidad de unos\n",
    "\n",
    "    # Se crea un arreglo con igual cantidad de ceros y unos\n",
    "    array_referencia = np.zeros(tamano_cromosoma)\n",
    "    array_referencia[0: unos] = 1\n",
    "\n",
    "    # Se mezclan los ceros y los unos aleatoriamente en el arreglo\n",
    "    np.random.shuffle(array_referencia)\n",
    "    \n",
    "    return array_referencia"
   ]
  },
  {
   "cell_type": "code",
   "execution_count": 2,
   "metadata": {},
   "outputs": [
    {
     "name": "stdout",
     "output_type": "stream",
     "text": [
      "[0. 0. 1. 1. 1. 1. 0. 0. 1. 1. 0. 0. 1. 1. 0. 0. 1. 1. 0. 0. 1. 0. 1. 0.\n",
      " 0. 0. 1. 1. 1. 0. 1. 1. 1. 0. 1. 1. 0. 1. 0. 0. 1. 0. 0. 0. 0. 1. 0. 0.\n",
      " 0. 0. 1. 1. 0. 0. 1. 1. 1. 1. 0. 1.]\n"
     ]
    }
   ],
   "source": [
    "# Imprimimos un ejemplo con el método anterior\n",
    "print(crear_referencia(60))"
   ]
  },
  {
   "cell_type": "code",
   "execution_count": 3,
   "metadata": {},
   "outputs": [],
   "source": [
    "def crear_poblacion_inicial(individuos, tamano_cromosoma):\n",
    "    # Se configura un arreglo inicial de ceros\n",
    "    poblacion = np.zeros((individuos, tamano_cromosoma))\n",
    "    # Iteramos\n",
    "    for i in range(individuos):\n",
    "        # Se elige un numero aleatorio de unos\n",
    "        unos = random.randint(0, tamano_cromosoma)\n",
    "        # Cambiar el numero requerido de ceros a unos\n",
    "        poblacion[i, 0:unos] = 1\n",
    "        # Mezclar los ceros y unos en la fila\n",
    "        np.random.shuffle(poblacion[i])\n",
    "    \n",
    "    return poblacion"
   ]
  },
  {
   "cell_type": "code",
   "execution_count": 4,
   "metadata": {},
   "outputs": [
    {
     "name": "stdout",
     "output_type": "stream",
     "text": [
      "[[0. 0. 0. 0. 0. 0. 0. 1. 0. 0. 1. 0. 0. 0. 0. 0. 1. 1. 0. 0.]\n",
      " [0. 1. 0. 0. 0. 0. 1. 0. 0. 0. 0. 0. 0. 0. 0. 0. 0. 0. 0. 0.]\n",
      " [0. 1. 0. 0. 1. 0. 0. 1. 1. 1. 0. 0. 0. 0. 0. 0. 0. 1. 0. 0.]\n",
      " [0. 1. 1. 1. 1. 0. 1. 0. 1. 0. 1. 1. 1. 1. 1. 0. 1. 1. 1. 1.]\n",
      " [1. 0. 0. 1. 0. 1. 0. 0. 1. 0. 0. 0. 0. 0. 0. 1. 1. 0. 1. 1.]\n",
      " [0. 0. 0. 0. 0. 0. 0. 0. 0. 0. 0. 1. 0. 0. 0. 0. 0. 0. 0. 0.]\n",
      " [0. 0. 1. 1. 1. 0. 1. 1. 1. 1. 1. 1. 1. 1. 1. 1. 1. 1. 1. 1.]\n",
      " [1. 0. 0. 1. 1. 0. 0. 1. 1. 1. 1. 0. 1. 0. 0. 1. 1. 1. 0. 0.]]\n"
     ]
    }
   ],
   "source": [
    "#Imprimimos un ejemplo con la población inicial\n",
    "print (crear_poblacion_inicial(8, 20))"
   ]
  },
  {
   "cell_type": "code",
   "execution_count": 5,
   "metadata": {},
   "outputs": [],
   "source": [
    "def calcular_aptitud(referencia, poblacion):\n",
    "    # Se crea un array de TRUE o FALSE que se compara la población con la referencia\n",
    "    comparacion = poblacion == referencia\n",
    "    # SSe suma el numero de genes que son idénticos a la referencia\n",
    "    puntajes_de_aptitud = comparacion.sum(axis=1)\n",
    "    \n",
    "    return puntajes_de_aptitud"
   ]
  },
  {
   "cell_type": "code",
   "execution_count": 6,
   "metadata": {},
   "outputs": [
    {
     "name": "stdout",
     "output_type": "stream",
     "text": [
      "('Solucion de referencia:', array([0., 1., 1., 1., 1., 1., 1., 0., 0., 0., 1., 1., 0., 1., 0., 0., 1.,\n",
      "       0., 1., 0., 0., 0., 1., 0., 1., 0., 1., 0., 0., 1., 1., 1., 1., 1.,\n",
      "       0., 0., 0., 0., 0., 1.]))\n",
      "('Poblacion inicial:', array([[1., 0., 1., ..., 1., 1., 1.],\n",
      "       [0., 0., 1., ..., 0., 1., 1.],\n",
      "       [1., 0., 0., ..., 1., 0., 0.],\n",
      "       ...,\n",
      "       [0., 1., 0., ..., 0., 0., 0.],\n",
      "       [0., 1., 1., ..., 1., 1., 1.],\n",
      "       [0., 0., 0., ..., 1., 1., 0.]]))\n",
      "('Puntajes:', array([19, 19, 19, 22, 19, 23, 22, 20, 18, 20, 20, 18, 17, 21, 20, 19, 18,\n",
      "       18, 21, 24, 24, 21, 22, 21, 20, 13, 18, 23, 22, 18]))\n"
     ]
    }
   ],
   "source": [
    "#Ahora teniendo en cuenta todo lo anterior:\n",
    "referencia = crear_referencia(40)\n",
    "print ('Solucion de referencia:', referencia)\n",
    "poblacion = crear_poblacion_inicial(30, 40)\n",
    "print ('Poblacion inicial:', poblacion)\n",
    "puntajes = calcular_aptitud(referencia, poblacion)\n",
    "print('Puntajes:', puntajes)\n"
   ]
  },
  {
   "cell_type": "code",
   "execution_count": 7,
   "metadata": {},
   "outputs": [],
   "source": [
    "def seleccion_individual_por_torneo(poblacion, puntajes):\n",
    "    #Se obtiene el tamaño de la poblacion\n",
    "    tamano_pob = len(puntajes)\n",
    "    \n",
    "    #Se eligen individuos para luchar\n",
    "    luchador_1 = random.randint(0, tamano_pob-1)\n",
    "    luchador_2 = random.randint(0, tamano_pob-1)\n",
    "    \n",
    "    #Se obtienen las aptitudes para cada luchador\n",
    "    aptitud_luchador_1 = puntajes[luchador_1]\n",
    "    aptitud_luchador_2 = puntajes[luchador_2]\n",
    "    \n",
    "    # Se identifica el luchador con mayor aptitud\n",
    "    # El luchador 1 ganará si hay empate en la aptitud\n",
    "    if aptitud_luchador_1 >= aptitud_luchador_2:\n",
    "        ganador = luchador_1\n",
    "    else:\n",
    "        ganador = luchador_2\n",
    "    \n",
    "    # Retorna los cromosomas del ganador\n",
    "    return poblacion[ganador, :]"
   ]
  },
  {
   "cell_type": "code",
   "execution_count": 8,
   "metadata": {},
   "outputs": [
    {
     "name": "stdout",
     "output_type": "stream",
     "text": [
      "[1. 1. 1. 1. 1. 1. 1. 1. 1. 1. 1. 1. 1. 0. 1. 1. 1. 1. 1. 1.]\n",
      "[1. 1. 1. 1. 1. 1. 1. 1. 1. 1. 1. 1. 1. 1. 1. 1. 1. 0. 1. 1.]\n"
     ]
    }
   ],
   "source": [
    "# Configuramos la poblacion\n",
    "referencia = crear_referencia(20)\n",
    "poblacion = crear_poblacion_inicial(12, 20)\n",
    "puntajes = calcular_aptitud(referencia, poblacion)\n",
    "\n",
    "# Se eligen dos progenitores y se muestran\n",
    "progenitor_1 = seleccion_individual_por_torneo(poblacion=poblacion, puntajes=puntajes)\n",
    "progenitor_2 = seleccion_individual_por_torneo(poblacion=poblacion,puntajes=puntajes)\n",
    "print (progenitor_1)\n",
    "print (progenitor_2)"
   ]
  },
  {
   "cell_type": "markdown",
   "metadata": {},
   "source": [
    "Creando hijos desde los progenitores - Cruces"
   ]
  },
  {
   "cell_type": "code",
   "execution_count": 9,
   "metadata": {},
   "outputs": [],
   "source": [
    "def crear_por_cruces(progenitor_1, progenitor_2):\n",
    "    # Se obtiene el tamaño de los cromosomas\n",
    "    tamano_cromosoma = len(progenitor_1)\n",
    "    \n",
    "    # Se elige el punto de cruce, evitando los extremos de los cromosomas\n",
    "    punto_de_cruce = random.randint(1,tamano_cromosoma-1)\n",
    "    \n",
    "    # Se crean los hijos\n",
    "    # La función np.hstack une los dos arrays enviados como parámetros\n",
    "    hijo_1 = np.hstack((progenitor_1[0:punto_de_cruce],\n",
    "                        progenitor_2[punto_de_cruce:]))\n",
    "    \n",
    "    hijo_2 = np.hstack((progenitor_2[0:punto_de_cruce],\n",
    "                        progenitor_1[punto_de_cruce:]))\n",
    "    \n",
    "    # Se retornan los hijos\n",
    "    return hijo_1, hijo_2"
   ]
  },
  {
   "cell_type": "markdown",
   "metadata": {},
   "source": [
    "Ahora vamos a crear una población, generar los respectivos puntajes, elegir unos progenitores, y crear hijos"
   ]
  },
  {
   "cell_type": "code",
   "execution_count": 10,
   "metadata": {},
   "outputs": [
    {
     "name": "stdout",
     "output_type": "stream",
     "text": [
      "Progenitores\n",
      "[0. 0. 0. 0. 0. 0. 0. 0. 0. 0. 0. 0. 0. 0. 0. 0. 0. 0. 0. 0. 0. 0. 0. 0.\n",
      " 0. 0. 0. 0. 0. 0.]\n",
      "[0. 1. 0. 0. 0. 0. 0. 0. 0. 0. 0. 0. 0. 0. 0. 1. 0. 0. 0. 0. 0. 0. 0. 0.\n",
      " 0. 1. 0. 1. 0. 0.]\n",
      "Hijos\n",
      "[0. 0. 0. 0. 0. 0. 0. 0. 0. 0. 0. 0. 0. 0. 0. 1. 0. 0. 0. 0. 0. 0. 0. 0.\n",
      " 0. 1. 0. 1. 0. 0.]\n",
      "[0. 1. 0. 0. 0. 0. 0. 0. 0. 0. 0. 0. 0. 0. 0. 0. 0. 0. 0. 0. 0. 0. 0. 0.\n",
      " 0. 0. 0. 0. 0. 0.]\n"
     ]
    }
   ],
   "source": [
    "# Crear poblacion y generar puntajes\n",
    "referencia = crear_referencia(30)\n",
    "poblacion = crear_poblacion_inicial(200, 30)\n",
    "puntajes = calcular_aptitud(referencia=referencia, poblacion=poblacion)\n",
    "\n",
    "# Elegir dos progenitores\n",
    "progenitor_1 = seleccion_individual_por_torneo(poblacion=poblacion, puntajes=puntajes)\n",
    "progenitor_2 = seleccion_individual_por_torneo(poblacion=poblacion, puntajes=puntajes)\n",
    "\n",
    "# Se obtienen los hijos\n",
    "hijo_1, hijo_2 = crear_por_cruces(progenitor_1=progenitor_1, progenitor_2=progenitor_2)\n",
    "\n",
    "# Mostrar salidas\n",
    "print ('Progenitores')\n",
    "print (progenitor_1)\n",
    "print (progenitor_2)\n",
    "print ('Hijos')\n",
    "print (hijo_1)\n",
    "print (hijo_2)"
   ]
  },
  {
   "cell_type": "markdown",
   "metadata": {},
   "source": [
    "Mutacion aleatoria de genes"
   ]
  },
  {
   "cell_type": "code",
   "execution_count": 11,
   "metadata": {},
   "outputs": [],
   "source": [
    "def mutar_aleatoriamente_poblacion(poblacion, tasa_mutacion):\n",
    "    \n",
    "    # Aplicar mutacion aleatoria\n",
    "        array_mutacion_aleatoria = np.random.random(\n",
    "            size=(poblacion.shape))\n",
    "        \n",
    "        booleano_mutacion_aleatoria = \\\n",
    "            array_mutacion_aleatoria <= tasa_mutacion\n",
    "\n",
    "        poblacion[booleano_mutacion_aleatoria] = \\\n",
    "        np.logical_not(poblacion[booleano_mutacion_aleatoria])\n",
    "        \n",
    "        # Retorna la poblacion mutada\n",
    "        return poblacion"
   ]
  },
  {
   "cell_type": "code",
   "execution_count": 12,
   "metadata": {},
   "outputs": [
    {
     "name": "stdout",
     "output_type": "stream",
     "text": [
      "Poblacion antes de la mutacion\n",
      "[[0. 1. 0. 1. 1. 1. 0. 1. 1. 1. 1. 1. 1. 1. 1. 1. 1. 1. 1. 1. 1. 1. 1. 1.\n",
      "  1. 1. 1. 1. 1. 1.]\n",
      " [0. 1. 1. 1. 1. 1. 1. 1. 1. 1. 1. 1. 0. 1. 0. 1. 0. 1. 0. 1. 1. 1. 0. 1.\n",
      "  0. 0. 0. 0. 1. 1.]]\n",
      "Poblacion despues de la mutacion\n",
      "[[0. 0. 1. 1. 1. 1. 0. 1. 1. 0. 1. 1. 1. 1. 0. 0. 0. 1. 1. 1. 0. 1. 0. 0.\n",
      "  0. 1. 1. 1. 1. 1.]\n",
      " [0. 1. 1. 1. 1. 1. 1. 1. 0. 1. 1. 0. 0. 1. 1. 1. 0. 0. 0. 1. 1. 1. 1. 0.\n",
      "  0. 0. 1. 0. 1. 0.]]\n"
     ]
    }
   ],
   "source": [
    "# Crear poblacion y generar puntajes\n",
    "referencia = crear_referencia(30)\n",
    "poblacion = crear_poblacion_inicial(200, 30)\n",
    "puntajes = calcular_aptitud(referencia=referencia, poblacion=poblacion)\n",
    "\n",
    "# Elegir dos progenitores\n",
    "progenitor_1 = seleccion_individual_por_torneo(poblacion=poblacion, puntajes=puntajes)\n",
    "progenitor_2 = seleccion_individual_por_torneo(poblacion=poblacion, puntajes=puntajes)\n",
    "\n",
    "# Se obtienen los hijos\n",
    "hijo_1, hijo_2 = crear_por_cruces(progenitor_1=progenitor_1, progenitor_2=progenitor_2)\n",
    "poblacion = np.stack((hijo_1, hijo_2))\n",
    "\n",
    "# Mutate population\n",
    "tasa_mutacion = 0.25\n",
    "print (\"Poblacion antes de la mutacion\")\n",
    "print (poblacion)\n",
    "poblacion = mutar_aleatoriamente_poblacion(poblacion=poblacion, tasa_mutacion=tasa_mutacion)\n",
    "print (\"Poblacion despues de la mutacion\")\n",
    "print (poblacion)"
   ]
  },
  {
   "cell_type": "markdown",
   "metadata": {},
   "source": [
    "Ahora mezclando todo, el algoritmo es el siguiente:"
   ]
  },
  {
   "cell_type": "code",
   "execution_count": 13,
   "metadata": {},
   "outputs": [
    {
     "name": "stdout",
     "output_type": "stream",
     "text": [
      "Mejor puntaje inicial, porcentaje objetivo: 0.0\n",
      "Mejor puntaje final, porcentaje objetivo: 100.0\n"
     ]
    },
    {
     "data": {
      "image/png": "[encoded data removed]",
      "text/plain": [
       "<Figure size 432x288 with 1 Axes>"
      ]
     },
     "metadata": {
      "needs_background": "light"
     },
     "output_type": "display_data"
    }
   ],
   "source": [
    "# Configurar parámetros generales\n",
    "tamano_cromosoma = 5\n",
    "tamano_poblacion = 32\n",
    "generacion_maxima = 100\n",
    "progreso_mejores_puntajes = [] # Sigue el progreso\n",
    "\n",
    "# Crear la referencia\n",
    "referencia = crear_referencia(tamano_cromosoma=tamano_cromosoma)\n",
    "\n",
    "# Crear poblacion inicial\n",
    "poblacion = crear_poblacion_inicial(individuos=tamano_poblacion, tamano_cromosoma=tamano_cromosoma)\n",
    "\n",
    "# Calcular los mejores puntajes en la poblacion inicial\n",
    "puntajes = calcular_aptitud(referencia=referencia, poblacion=poblacion)\n",
    "mejor_puntaje = np.max(puntajes)/tamano_cromosoma * 100\n",
    "print ('Mejor puntaje inicial, porcentaje objetivo: %.1f' %mejor_puntaje)\n",
    "\n",
    "# Agregar a la lista de los mejores puntajes\n",
    "progreso_mejores_puntajes.append(mejor_puntaje)\n",
    "iteracion = 1\n",
    "# Ahora vamos a iterar en cada generacion\n",
    "for generacion in range(generacion_maxima):\n",
    "    # Crear una lista vacia para la nueva poblacion\n",
    "    nueva_poblacion = []\n",
    "    \n",
    "    # Crear una nueva poblacion creando 2 hijos al mismo tiempo\n",
    "    for i in range(int(tamano_poblacion/2)):\n",
    "        progenitor_1 = seleccion_individual_por_torneo(poblacion=poblacion, puntajes=puntajes)\n",
    "        progenitor_2= seleccion_individual_por_torneo(poblacion=poblacion, puntajes=puntajes)\n",
    "        hijo_1, hijo_2 = crear_por_cruces(progenitor_1=progenitor_1, progenitor_2=progenitor_2)\n",
    "        nueva_poblacion.append(hijo_1)\n",
    "        nueva_poblacion.append(hijo_2)\n",
    "    \n",
    "    # Reemplazar la poblacion vieja con la nueva poblacion\n",
    "    poblacion = np.array(nueva_poblacion)\n",
    "    \n",
    "    # Aplicar la mutacion\n",
    "    tasa_mutacion = 0.0003\n",
    "    poblacion = mutar_aleatoriamente_poblacion(poblacion=poblacion, tasa_mutacion=tasa_mutacion)\n",
    "\n",
    "    # Calcular el mejor puntaje\n",
    "    puntajes = calcular_aptitud(referencia=referencia, poblacion=poblacion)\n",
    "    mejor_puntaje = np.max(puntajes)/tamano_cromosoma * 100\n",
    "    progreso_mejores_puntajes.append(mejor_puntaje)\n",
    "    #Imprimir mejor puntaje de cada iteracion\n",
    "    #print ('Mejor puntaje iteracion ',iteracion, ', porcentaje objetivo: %.1f' %mejor_puntaje)\n",
    "    iteracion +=1\n",
    "\n",
    "# El algoritmo genetico ha llegado a la generación limite\n",
    "print ('Mejor puntaje final, porcentaje objetivo: %.1f' %mejor_puntaje)\n",
    "\n",
    "# Dibujar progreso\n",
    "import matplotlib.pyplot as plt\n",
    "%matplotlib inline\n",
    "plt.plot(progreso_mejores_puntajes)\n",
    "plt.xlabel('Generacion')\n",
    "plt.ylabel('Mejor puntaje (% objetivo)')\n",
    "plt.show()"
   ]
  },
  {
   "cell_type": "code",
   "execution_count": null,
   "metadata": {},
   "outputs": [],
   "source": []
  }
 ],
 "metadata": {
  "kernelspec": {
   "display_name": "Python 3",
   "language": "python",
   "name": "python3"
  },
  "language_info": {
   "codemirror_mode": {
    "name": "ipython",
    "version": 2
   },
   "file_extension": ".py",
   "mimetype": "text/x-python",
   "name": "python",
   "nbconvert_exporter": "python",
   "pygments_lexer": "ipython2",
   "version": "2.7.17"
  }
 },
 "nbformat": 4,
 "nbformat_minor": 2
}
