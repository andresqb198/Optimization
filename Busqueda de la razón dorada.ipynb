{
 "cells": [
  {
   "cell_type": "code",
   "execution_count": 1,
   "metadata": {
    "colab": {},
    "colab_type": "code",
    "id": "f7BpCZccO_BS"
   },
   "outputs": [],
   "source": [
    "import math\n",
    "import matplotlib.pyplot as plt\n",
    "import numpy as np"
   ]
  },
  {
   "cell_type": "code",
   "execution_count": 2,
   "metadata": {
    "colab": {},
    "colab_type": "code",
    "id": "Omr-dNnOoEVA"
   },
   "outputs": [],
   "source": [
    "def funcion(x):\n",
    "    return (2*np.sin(x))-((x**2)/10)"
   ]
  },
  {
   "cell_type": "code",
   "execution_count": 3,
   "metadata": {
    "colab": {},
    "colab_type": "code",
    "id": "MPcu_UyOPVWG"
   },
   "outputs": [],
   "source": [
    "def razon_dorada(x_lower,x_upper):\n",
    "  tau = 1e-10\n",
    "  d = 0.618*(x_upper-x_lower)\n",
    "  x_1 = x_lower + d\n",
    "  x_2 = x_upper - d\n",
    "  f_x1 = funcion(x_1)\n",
    "  f_x2 = funcion(x_2)\n",
    "  while abs(x_upper - x_lower) > tau*(abs(x_1 + x_2)):\n",
    "    if f_x2 > f_x1:\n",
    "      x_lower = x_lower\n",
    "      x_upper = x_1\n",
    "      d = 0.618*(x_upper-x_lower)\n",
    "      x_1 = x_lower + d\n",
    "      x_2 = x_upper - d\n",
    "      f_x1 = funcion(x_1)\n",
    "      f_x2 = funcion(x_2)\n",
    "    else:\n",
    "      x_lower = x_2\n",
    "      x_upper  = x_upper\n",
    "      d = 0.618*(x_upper-x_lower)\n",
    "      x_1 = x_lower + d\n",
    "      x_2 = x_upper - d\n",
    "      f_x1 = funcion(x_1)\n",
    "      f_x2 = funcion(x_2)\n",
    "  return (x_upper + x_lower)/2"
   ]
  },
  {
   "cell_type": "code",
   "execution_count": 4,
   "metadata": {
    "colab": {
     "base_uri": "https://localhost:8080/",
     "height": 265
    },
    "colab_type": "code",
    "executionInfo": {
     "elapsed": 1050,
     "status": "ok",
     "timestamp": 1575321077218,
     "user": {
      "displayName": "ANDRÉS QUINTERO BEDOYA",
      "photoUrl": "",
      "userId": "15072445933991782318"
     },
     "user_tz": 300
    },
    "id": "i1u3WjtXZV8g",
    "outputId": "76d55b83-60dd-42c5-b0f4-8d8abace499d"
   },
   "outputs": [
    {
     "name": "stdout",
     "output_type": "stream",
     "text": [
      "La raiz buscada era : ( 1.4275517884965883 , 1.775725653147415 )\n"
     ]
    },
    {
     "data": {
      "image/png": "[encoded data removed]",
      "text/plain": [
       "<Figure size 432x288 with 1 Axes>"
      ]
     },
     "metadata": {
      "needs_background": "light"
     },
     "output_type": "display_data"
    }
   ],
   "source": [
    "x = np.linspace(0,4,100)\n",
    "plt.plot(x,funcion(x))\n",
    "plt.scatter(razon_dorada(0,4),funcion(razon_dorada(0,4)), c='r', label='Maximo/Minimo')\n",
    "print(\"La raiz buscada era : (\",razon_dorada(0,4),\",\",funcion(razon_dorada(0,4)),\")\")\n",
    "plt.legend()\n",
    "plt.show()"
   ]
  },
  {
   "cell_type": "code",
   "execution_count": null,
   "metadata": {},
   "outputs": [],
   "source": []
  }
 ],
 "metadata": {
  "colab": {
   "collapsed_sections": [],
   "name": "Busqueda de la razón dorada.ipynb",
   "provenance": []
  },
  "kernelspec": {
   "display_name": "Python 3",
   "language": "python",
   "name": "python3"
  },
  "language_info": {
   "codemirror_mode": {
    "name": "ipython",
    "version": 3
   },
   "file_extension": ".py",
   "mimetype": "text/x-python",
   "name": "python",
   "nbconvert_exporter": "python",
   "pygments_lexer": "ipython3",
   "version": "3.6.9"
  }
 },
 "nbformat": 4,
 "nbformat_minor": 2
}
