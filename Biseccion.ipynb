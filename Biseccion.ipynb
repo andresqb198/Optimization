{
 "cells": [
  {
   "cell_type": "code",
   "execution_count": 1,
   "metadata": {},
   "outputs": [],
   "source": [
    "import math\n",
    "import matplotlib.pyplot as plt\n",
    "import numpy as np"
   ]
  },
  {
   "cell_type": "code",
   "execution_count": 2,
   "metadata": {},
   "outputs": [],
   "source": [
    "def funcion(x):\n",
    "    return (3*(x**2))-(120*x)+(100)\n",
    "    "
   ]
  },
  {
   "cell_type": "code",
   "execution_count": 3,
   "metadata": {},
   "outputs": [],
   "source": [
    "def biseccion(x_lower, x_upper, tolerancia):\n",
    "    iteraciones = 1\n",
    "    x_root = (x_lower+x_upper)/2\n",
    "    while (abs(funcion(x_root)*funcion(x_lower))-tolerancia) > 0:\n",
    "        if funcion(x_lower)*funcion(x_root) > 0:\n",
    "            x_lower = x_root\n",
    "        elif funcion(x_lower)*funcion(x_root) < 0:\n",
    "            x_upper = x_root\n",
    "        elif funcion(x_lower)*funcion(x_root) == 0:\n",
    "            return x_root\n",
    "            return iteraciones\n",
    "        x_root = (x_lower+x_upper)/2\n",
    "        iteraciones = iteraciones + 1\n",
    "    return x_root, iteraciones, tolerancia\n",
    "    "
   ]
  },
  {
   "cell_type": "code",
   "execution_count": 4,
   "metadata": {},
   "outputs": [
    {
     "name": "stdout",
     "output_type": "stream",
     "text": [
      "Punto: ( 0.8514595031738281 , -0.0001905242243083194 ) , hallado en  19  iteraciones con  0.0001  de error\n"
     ]
    }
   ],
   "source": [
    "root, iteraciones, tolerancia = biseccion(-10,20,0.0001) \n",
    "print(\"Punto: (\",root,\",\", funcion(root),\") , hallado en \", iteraciones,\" iteraciones con \", tolerancia,\" de error\")"
   ]
  },
  {
   "cell_type": "code",
   "execution_count": 5,
   "metadata": {},
   "outputs": [
    {
     "name": "stdout",
     "output_type": "stream",
     "text": [
      "La raiz buscada era : ( 0.8514595031738281 , -0.0001905242243083194 ) , hallado en  19  iteraciones con  0.0001  de error\n"
     ]
    },
    {
     "data": {
      "image/png": "[encoded data removed]",
      "text/plain": [
       "<Figure size 432x288 with 1 Axes>"
      ]
     },
     "metadata": {
      "needs_background": "light"
     },
     "output_type": "display_data"
    }
   ],
   "source": [
    "x = np.linspace(0,4,100)\n",
    "plt.plot(x,funcion(x))\n",
    "plt.scatter(root,funcion(root), c='r', label='Raiz')\n",
    "print(\"La raiz buscada era : (\",root,\",\", funcion(root),\") , hallado en \", iteraciones,\" iteraciones con \", tolerancia,\" de error\")\n",
    "plt.legend()\n",
    "plt.show()"
   ]
  },
  {
   "cell_type": "code",
   "execution_count": null,
   "metadata": {},
   "outputs": [],
   "source": []
  }
 ],
 "metadata": {
  "kernelspec": {
   "display_name": "Python 3",
   "language": "python",
   "name": "python3"
  },
  "language_info": {
   "codemirror_mode": {
    "name": "ipython",
    "version": 3
   },
   "file_extension": ".py",
   "mimetype": "text/x-python",
   "name": "python",
   "nbconvert_exporter": "python",
   "pygments_lexer": "ipython3",
   "version": "3.6.9"
  }
 },
 "nbformat": 4,
 "nbformat_minor": 2
}
