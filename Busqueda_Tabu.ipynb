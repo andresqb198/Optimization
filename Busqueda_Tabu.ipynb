{
 "cells": [
  {
   "cell_type": "markdown",
   "metadata": {},
   "source": [
    "# Búsqueda Tabú #\n",
    "\n",
    "### Curso de Optimización \n",
    "\n",
    "#### Por Andrés Quintero Bedoya \n",
    "\n",
    "\n",
    "##### Universidad de Antioquia \n",
    "\n",
    "##### 2019-2"
   ]
  },
  {
   "cell_type": "markdown",
   "metadata": {},
   "source": [
    "# 1. Problemas Ilustrativos\n",
    "\n",
    "### 1.1 El problema clásico del enrutamiento de vehículos\n"
   ]
  },
  {
   "cell_type": "markdown",
   "metadata": {},
   "source": [
    "Los problemas de enrutamiento de vehículos tienen aplicaciones muy importantes en el área de gestión de distribución. Como consecuencia, se han convertido en algunos de los problemas más estudiados en la literatura de optimización combinatoria y una gran cantidad de documentos y libros tratan sobre los numerosos procedimientos que se han propuesto para resolverlos. Estas incluyen varias implementaciones de la Búsqueda Tabú que actualmente se encuentran entre las más efectivas. El problema clásico de enrutamiento de vehículos es la variante básica en esa clase de problemas. Se puede definir formalmente de la siguiente manera."
   ]
  },
  {
   "cell_type": "markdown",
   "metadata": {},
   "source": [
    "* Sea $G = (V, A)$ un grafo donde $V$ es el conjunto de vértices y $A$ es el conjunto de arco. \n",
    "\n",
    "* Uno de los vértices representa la cochera en el que se basa una flota de $m$ vehículos idénticos de capacidad $Q$, y los otros vértices son clientes que necesitan ser atendidos.\n",
    "\n",
    "* Con cada vértice de cliente $v_{i}$ se asocia una demanda $q_{i}$ y un tiempo de servicio $t_{i}$.\n",
    "\n",
    "* Con cada arco $(v_{i},v_{j})$ de $A$ se asocian un costo $c_{ij}$ y un tiempo de viaje $t_{ij}$."
   ]
  },
  {
   "cell_type": "markdown",
   "metadata": {},
   "source": [
    "El problema clásico del enrutamiento de vehículos consiste en encontrar un conjunto de rutas tales que:\n",
    "\n",
    "1. Cada ruta comienza y termina en la cochera.\n",
    "2. Cada cliente es visitado exactamente una vez por exactamente una ruta.\n",
    "3. La demanda total de los clientes asignados a cada ruta no supera la capacidad $Q$.\n",
    "4. La duración total de cada ruta (incluidos los tiempos de viaje y servicio) no supera un valor especificado $L$.\n",
    "5. Se debe minimizar el costo total de las rutas."
   ]
  },
  {
   "cell_type": "markdown",
   "metadata": {},
   "source": [
    "Laporte formula el problema clásico del enrutamiento de vehículos como el siguiente programa:\n",
    "\n",
    "* Minimizar el costo\n",
    "$$min\\sum_{c\\epsilon E}^{} q_{e}x_{e}$$\n",
    "\n",
    "* Cada uno de los $k$ vehículos tiene que ir y volver a la cochera\n",
    "$$x(\\delta {(0)}) = 2k$$\n",
    "\n",
    "* Cada cliente es visitado sólo una vez \n",
    "\n",
    "$$\\forall i\\epsilon V_{0}$$ \n",
    "$$x(\\delta {(i)}) = 2$$\n",
    "\n",
    "$x_{e}$ representa a cada lado $e$ del conjunto de lados $E$ del grafo $G$ \n",
    "\n",
    "$\\delta (S)$ representa el conjunto de aristas con un nodo final en $S$ y el otro en $\\frac{V}{S}$\n"
   ]
  },
  {
   "cell_type": "markdown",
   "metadata": {},
   "source": [
    "# Solución del problema clásico del enrutamiento de vehículos con la Búsqueda Tabú"
   ]
  },
  {
   "cell_type": "markdown",
   "metadata": {},
   "source": [
    "Tenga en cuenta que las restricciones de capacidad consisten en varias clases de restricciones, cada clase asociada al número de vehículos necesarios para atender a todos los clientes en el conjunto $S$. Por lo tanto, para cada valor de $p = 1,. . , k - 1$, podemos concentrarnos en un conjunto de clientes que requieren $p$ vehículos.\n",
    "\n",
    "Esto es, conjuntos $S \\subseteq V_{0}$ que satisfacen $(p  - llimit)C \\leq d(S)\\leq (p + ulimit)C$, donde llimit y ulimit son parámetros dados con valores entre 0 y 1.  Se aplica una fase de intercambio para buscar en tales conjuntos S: en cada iteración, un nodo es agregado o removido de S en orden para minimizar $x(\\delta (S))$. El movimiento seleccionado es el mejor entre todas las posibilidades, a pesar de que $x(\\delta (S))$ se puede incrementar o disminuir de una iteración a otra, por lo que es necesario usar una lista Tabú.\n",
    "\n",
    "El procedimiento empieza con un conjunto inicial $ S = \\left \\{ i \\right \\}$ y, en orden para cubrir todas las regiones del grafo $G(x)$, se recorre cor cada nodo $i$ en un subconjunto de $\\frac{n}{2}$ nodos seleccionados aleatoriamente. Para cada numero de vehículos $p = 1,. . , k - 1$, el algoritmo ejecuta primero una fase de expansión, donde el conjunto $S$ crece al añadirsele un nodo en cada iteración, hasta que el tamaño satisfaga que $d(S) > (p + ulimit)C$. En este momento, la fase de intercambio es aplicada durante un máximo numero de iteraciones dadas por un parámetro llamado \"tope\". Luego, el número de vehículos $p$ se incrementa por una inidad, y es aplicada otra fase de expanción. Por cada conjunto $S$ generado por el algoritmo se tienen en cuenta las restricciones dadas por el problema.\n",
    "\n",
    "Dado un subconjunto $S$ de $V_{0}$, denotaremos como $N^{+}(S)$ el conjunto de nodos en $\\frac{V_{0}}{S}$ adjyacentes, en $G(x)$, por lo menos un nodo en $S$; y denoteremos como $N^{-}(S)$ el conjunto de nodos en $S$ adyacente por lo menos en un nodo en $\\frac{V_{0}}{S}$.\n",
    "\n",
    "Definiremos como $smax = C(p+ulimit)-d(S)$ y como $smin = d(S)-C(p-ilimit)$. Luego, el conjunto de nodos candidatos para ser añadidos a $S$ es $C^{+}(S)= \\left \\{ v\\epsilon N^{+}(S) : d_{v}\\leq smax \\right \\}$ mientras que el conjunto de candidatos a ser removidos son $C^{-}(S)= \\left \\{ v\\epsilon N^{-}(S) : d_{v}\\leq smin \\right \\}$. Si en alguna iteración el nodo $v$ es añadido (removido) en $S$, el movimiento de reversa es declarado tabú durante un número de iteraciones iguales a otro parámetro de ingresp llamado ttl (tabu list length en español tamaño de la lista tabú).\n",
    "\n",
    "En la fase de expansión el mejor nodo candidato a ser añadido a S es aquel que tenga $x((S:\\left \\{ v \\right \\}))$ máximo. Sin embargo en orden para obtener diferentes resultados corriendo el algoritmo multiples veces, tenemos que aleatorizar este paso construyendo un conjunto de \"buenos\" candidatos y aleatoriamente elegir uno de ellos. Un parámetro llamado \"ntimes\" determina el número de veces que todo el algoritmo se correrá. Mientras que el otro parámetro \"per\" $0\\leq per < 1$, es usado para elegir el conjunto de buenos candidatos.\n",
    "\n",
    "\n"
   ]
  },
  {
   "cell_type": "markdown",
   "metadata": {},
   "source": [
    "# Referencias: \n",
    "\n",
    "* Augerat, P., Belenguer, J. M., Benavent, E., Corbéran, A., & Naddef, D. (1998). Separating capacity constraints in the CVRP using tabu search. European Journal of Operational Research, 106(2-3), 546-557.\n",
    "\n",
    "\n",
    "* Glover, F. W., & Kochenberger, G. A. (Eds.). (2006). Handbook of metaheuristics (Vol. 57). Springer Science & Business Media.\n"
   ]
  },
  {
   "cell_type": "code",
   "execution_count": null,
   "metadata": {},
   "outputs": [],
   "source": []
  }
 ],
 "metadata": {
  "kernelspec": {
   "display_name": "Python 3",
   "language": "python",
   "name": "python3"
  },
  "language_info": {
   "codemirror_mode": {
    "name": "ipython",
    "version": 2
   },
   "file_extension": ".py",
   "mimetype": "text/x-python",
   "name": "python",
   "nbconvert_exporter": "python",
   "pygments_lexer": "ipython2",
   "version": "2.7.17"
  }
 },
 "nbformat": 4,
 "nbformat_minor": 2
}
