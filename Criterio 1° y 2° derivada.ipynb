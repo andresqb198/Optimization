{
 "cells": [
  {
   "cell_type": "markdown",
   "metadata": {
    "colab_type": "text",
    "id": "bojsiGiGg50Y"
   },
   "source": [
    "# **Criterio de la primera y la segunda derivada**"
   ]
  },
  {
   "cell_type": "code",
   "execution_count": 0,
   "metadata": {
    "colab": {},
    "colab_type": "code",
    "id": "LiqinAu1hn-3"
   },
   "outputs": [],
   "source": [
    "#!pip install sympy\n",
    "#!pip install matplotlib"
   ]
  },
  {
   "cell_type": "code",
   "execution_count": 0,
   "metadata": {
    "colab": {},
    "colab_type": "code",
    "id": "D4gEMHr9ico9"
   },
   "outputs": [],
   "source": [
    "#Sympy librería para las derivadas\n",
    "import sympy as sp\n",
    "#Matplotlib libreria para las graficas\n",
    "import matplotlib as mp\n",
    "import matplotlib.pyplot as plt\n",
    "#Math libreria para operaciones matematicas\n",
    "import math\n",
    "#Numpy librería para operaciones matemáticas\n",
    "import numpy as np\n"
   ]
  },
  {
   "cell_type": "code",
   "execution_count": 3,
   "metadata": {
    "colab": {
     "base_uri": "https://localhost:8080/",
     "height": 52
    },
    "colab_type": "code",
    "executionInfo": {
     "elapsed": 992,
     "status": "ok",
     "timestamp": 1574958947287,
     "user": {
      "displayName": "ANDRÉS QUINTERO BEDOYA",
      "photoUrl": "",
      "userId": "15072445933991782318"
     },
     "user_tz": 300
    },
    "id": "10a-ONPpisLc",
    "outputId": "2457e610-f781-407d-ae5b-91b4b12e8ea3"
   },
   "outputs": [
    {
     "name": "stdout",
     "output_type": "stream",
     "text": [
      "5*x**4 - 15*x**2\n",
      "20*x**3 - 30*x\n"
     ]
    }
   ],
   "source": [
    "def funcion(x):\n",
    "  return (x**5)-(5*(x**3))\n",
    "x= sp.symbols('x')\n",
    "expresion = (x**5)-(5*x**3)\n",
    "primera_derivada = sp.diff(expresion,x)\n",
    "print(primera_derivada)\n",
    "segunda_derivada = sp.diff(primera_derivada,x)\n",
    "print(segunda_derivada)"
   ]
  },
  {
   "cell_type": "code",
   "execution_count": 4,
   "metadata": {
    "colab": {
     "base_uri": "https://localhost:8080/",
     "height": 34
    },
    "colab_type": "code",
    "executionInfo": {
     "elapsed": 987,
     "status": "ok",
     "timestamp": 1574958947288,
     "user": {
      "displayName": "ANDRÉS QUINTERO BEDOYA",
      "photoUrl": "",
      "userId": "15072445933991782318"
     },
     "user_tz": 300
    },
    "id": "zw2ZnXXjqpIG",
    "outputId": "fd149797-a17a-46c8-f373-84367fbe4857"
   },
   "outputs": [
    {
     "data": {
      "text/plain": [
       "{0, -sqrt(3), sqrt(3)}"
      ]
     },
     "execution_count": 4,
     "metadata": {
      "tags": []
     },
     "output_type": "execute_result"
    }
   ],
   "source": [
    "#Se encuentran los puntos críticos igualando la primera derivada a cero y resolviendo.\n",
    "puntos_criticos = sp.solveset(sp.Eq(primera_derivada,0),x)\n",
    "puntos_criticos"
   ]
  },
  {
   "cell_type": "code",
   "execution_count": 5,
   "metadata": {
    "colab": {
     "base_uri": "https://localhost:8080/",
     "height": 34
    },
    "colab_type": "code",
    "executionInfo": {
     "elapsed": 982,
     "status": "ok",
     "timestamp": 1574958947290,
     "user": {
      "displayName": "ANDRÉS QUINTERO BEDOYA",
      "photoUrl": "",
      "userId": "15072445933991782318"
     },
     "user_tz": 300
    },
    "id": "nE53bFc8uDXF",
    "outputId": "ec45a999-862e-4659-ad80-e9b0c754e5d4"
   },
   "outputs": [
    {
     "name": "stdout",
     "output_type": "stream",
     "text": [
      "[-1.7320508075688772, 0, 1.7320508075688772]\n"
     ]
    }
   ],
   "source": [
    "##Se crea una lista_puntos_criticos que contiene los puntos crííticos de acuerdo con la primera derivada\n",
    "lista_puntos_criticos = [0,-math.sqrt(3),math.sqrt(3)]\n",
    "lista_puntos_criticos.sort()\n",
    "print(lista_puntos_criticos)"
   ]
  },
  {
   "cell_type": "code",
   "execution_count": 6,
   "metadata": {
    "colab": {
     "base_uri": "https://localhost:8080/",
     "height": 52
    },
    "colab_type": "code",
    "executionInfo": {
     "elapsed": 977,
     "status": "ok",
     "timestamp": 1574958947291,
     "user": {
      "displayName": "ANDRÉS QUINTERO BEDOYA",
      "photoUrl": "",
      "userId": "15072445933991782318"
     },
     "user_tz": 300
    },
    "id": "u9rTOcK6DNAD",
    "outputId": "ac0d1b0a-08d9-4ca2-cf55-192c9e3215b5"
   },
   "outputs": [
    {
     "name": "stdout",
     "output_type": "stream",
     "text": [
      "La función es concava hacia abajo en: (-1.7321,10.3923)\n",
      "La función es concava hacia arriba en: (1.7321,-10.3923)\n"
     ]
    }
   ],
   "source": [
    "#Criterio de la segunda derivada\n",
    "def funcion_segunda_derivada(x):\n",
    "  return  20*x**3 - 30*x\n",
    "for i in lista_puntos_criticos:\n",
    "  if funcion_segunda_derivada(i)>0:\n",
    "    print(\"La función es concava hacia arriba en: (\" + str(round(i,4))+\",\"+ str(round(funcion(i),4))+\")\")\n",
    "  elif funcion_segunda_derivada(i)<0:\n",
    "    print(\"La función es concava hacia abajo en: (\" + str(round(i,4))+\",\"+ str(round(funcion(i),4))+\")\")\n"
   ]
  },
  {
   "cell_type": "code",
   "execution_count": 0,
   "metadata": {
    "colab": {},
    "colab_type": "code",
    "id": "S9TMAYVGFcxz"
   },
   "outputs": [],
   "source": [
    "#Se eligen núúmeros para evaluar en el criterio de la primera derivada\n",
    "numeros_para_evaluar = [-10,-1,1,10]"
   ]
  },
  {
   "cell_type": "code",
   "execution_count": 8,
   "metadata": {
    "colab": {
     "base_uri": "https://localhost:8080/",
     "height": 34
    },
    "colab_type": "code",
    "executionInfo": {
     "elapsed": 968,
     "status": "ok",
     "timestamp": 1574958947294,
     "user": {
      "displayName": "ANDRÉS QUINTERO BEDOYA",
      "photoUrl": "",
      "userId": "15072445933991782318"
     },
     "user_tz": 300
    },
    "id": "RqbNcAB3GZlF",
    "outputId": "b4647938-4abd-461e-d9fb-78a187bd444b"
   },
   "outputs": [
    {
     "name": "stdout",
     "output_type": "stream",
     "text": [
      "[48500, -10, -10, 48500]\n"
     ]
    }
   ],
   "source": [
    "#Se evaluan los numeros en la primera derivada\n",
    "numeros_evaluados = []\n",
    "for i in numeros_para_evaluar:\n",
    "  numeros_evaluados.append(primera_derivada.subs(x,i))\n",
    "print(numeros_evaluados)\n"
   ]
  },
  {
   "cell_type": "code",
   "execution_count": 9,
   "metadata": {
    "colab": {
     "base_uri": "https://localhost:8080/",
     "height": 34
    },
    "colab_type": "code",
    "executionInfo": {
     "elapsed": 963,
     "status": "ok",
     "timestamp": 1574958947295,
     "user": {
      "displayName": "ANDRÉS QUINTERO BEDOYA",
      "photoUrl": "",
      "userId": "15072445933991782318"
     },
     "user_tz": 300
    },
    "id": "Aq9FIP7hH6Rq",
    "outputId": "56cc2ea3-043c-4921-d2ca-ac4e66c47cad"
   },
   "outputs": [
    {
     "name": "stdout",
     "output_type": "stream",
     "text": [
      "['+', '-', '-', '+']\n"
     ]
    }
   ],
   "source": [
    "#Se identifica donde crece o decrece la gráfica\n",
    "crecimiento_uno = []\n",
    "for j in numeros_evaluados:\n",
    "  if j > 0:\n",
    "    crecimiento_uno.append('+')\n",
    "  else: \n",
    "    crecimiento_uno.append('-')\n",
    "print(crecimiento_uno)\n",
    "\n",
    "\n"
   ]
  },
  {
   "cell_type": "code",
   "execution_count": 10,
   "metadata": {
    "colab": {
     "base_uri": "https://localhost:8080/",
     "height": 265
    },
    "colab_type": "code",
    "executionInfo": {
     "elapsed": 1764,
     "status": "ok",
     "timestamp": 1574958948103,
     "user": {
      "displayName": "ANDRÉS QUINTERO BEDOYA",
      "photoUrl": "",
      "userId": "15072445933991782318"
     },
     "user_tz": 300
    },
    "id": "Usx8SwHwPmjV",
    "outputId": "7a2b658a-3c6b-4a42-a6dc-b3dfaabff4e9"
   },
   "outputs": [
    {
     "data": {
      "image/png": "[encoded data removed]",
      "text/plain": [
       "<Figure size 432x288 with 1 Axes>"
      ]
     },
     "metadata": {
      "tags": []
     },
     "output_type": "display_data"
    }
   ],
   "source": [
    "#Se grafica la función original\n",
    "x=np.linspace(-2.3,2.3,100)\n",
    "plt.plot(x,funcion(x))\n",
    "j = 0\n",
    "for i in lista_puntos_criticos:\n",
    "  plt.scatter(i,funcion(i), marker='o', s=60, color='red', label=\"Punto crítico en: \" +\"(\" + str(round(lista_puntos_criticos[j],4))+\" , \" + str(round(funcion(lista_puntos_criticos[j]),4))+\")\")\n",
    "  j +=1\n"
   ]
  },
  {
   "cell_type": "code",
   "execution_count": 11,
   "metadata": {
    "colab": {
     "base_uri": "https://localhost:8080/",
     "height": 69
    },
    "colab_type": "code",
    "executionInfo": {
     "elapsed": 1754,
     "status": "ok",
     "timestamp": 1574958948103,
     "user": {
      "displayName": "ANDRÉS QUINTERO BEDOYA",
      "photoUrl": "",
      "userId": "15072445933991782318"
     },
     "user_tz": 300
    },
    "id": "u15qYx1LdbmJ",
    "outputId": "261c2a34-0ee9-4479-b605-1edf72bfdd38"
   },
   "outputs": [
    {
     "name": "stdout",
     "output_type": "stream",
     "text": [
      "Máximo relativo en: (-1.7321 , 10.3923)\n",
      "Punto de inflexión en: (0 , 0)\n",
      "Minimo relativo en: (1.7321 , -10.3923)\n"
     ]
    }
   ],
   "source": [
    "#Se identifican los máximos, los minimos y los puntos de inflexión\n",
    "for i in range(0,len(crecimiento_uno)-1):\n",
    "  if crecimiento_uno[i] == '+':\n",
    "    if crecimiento_uno[i+1] == '-':\n",
    "      print(\"Máximo relativo en: (\" + str(round(lista_puntos_criticos[i],4))+\" , \" + str(round(funcion(lista_puntos_criticos[i]),4))+\")\")\n",
    "    else:\n",
    "      print(\"Punto de inflexión en: \" + str(round(lista_puntos_criticos[i],4))+\" , \" + str(round(funcion(lista_puntos_criticos[i]),4))+\")\")\n",
    "  else:\n",
    "    if crecimiento_uno[i+1] == '+':\n",
    "      print(\"Minimo relativo en: (\" + str(round(lista_puntos_criticos[i],4))+\" , \" + str(round(funcion(lista_puntos_criticos[i]),4))+\")\")\n",
    "    else:\n",
    "      print(\"Punto de inflexión en: (\" + str(round(lista_puntos_criticos[i],4))+\" , \" + str(round(funcion(lista_puntos_criticos[i]),4))+\")\")\n"
   ]
  }
 ],
 "metadata": {
  "colab": {
   "collapsed_sections": [],
   "name": "Criterio 1° y 2° derivada.ipynb",
   "provenance": []
  },
  "kernelspec": {
   "display_name": "Python 3",
   "language": "python",
   "name": "python3"
  },
  "language_info": {
   "codemirror_mode": {
    "name": "ipython",
    "version": 3
   },
   "file_extension": ".py",
   "mimetype": "text/x-python",
   "name": "python",
   "nbconvert_exporter": "python",
   "pygments_lexer": "ipython3",
   "version": "3.7.3"
  }
 },
 "nbformat": 4,
 "nbformat_minor": 1
}
